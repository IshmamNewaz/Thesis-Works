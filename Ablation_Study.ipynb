{
  "nbformat": 4,
  "nbformat_minor": 0,
  "metadata": {
    "colab": {
      "provenance": [],
      "gpuType": "T4"
    },
    "kernelspec": {
      "name": "python3",
      "display_name": "Python 3"
    },
    "language_info": {
      "name": "python"
    },
    "accelerator": "GPU"
  },
  "cells": [
    {
      "cell_type": "code",
      "source": [
        "import numpy as np\n",
        "import tensorflow as tf\n",
        "from tensorflow.keras.models import Sequential\n",
        "from tensorflow.keras.layers import Flatten, Dense\n",
        "from tensorflow.keras.datasets import mnist\n",
        "from sklearn.metrics import accuracy_score\n"
      ],
      "metadata": {
        "id": "_roVSgvqlyMe"
      },
      "execution_count": 1,
      "outputs": []
    },
    {
      "cell_type": "code",
      "execution_count": 2,
      "metadata": {
        "colab": {
          "base_uri": "https://localhost:8080/"
        },
        "id": "kEOBsTUqlqds",
        "outputId": "4179c0c7-f0dd-4ae3-de1d-473f672688d9"
      },
      "outputs": [
        {
          "output_type": "stream",
          "name": "stdout",
          "text": [
            "Downloading data from https://storage.googleapis.com/tensorflow/tf-keras-datasets/mnist.npz\n",
            "\u001b[1m11490434/11490434\u001b[0m \u001b[32m━━━━━━━━━━━━━━━━━━━━\u001b[0m\u001b[37m\u001b[0m \u001b[1m2s\u001b[0m 0us/step\n"
          ]
        },
        {
          "output_type": "stream",
          "name": "stderr",
          "text": [
            "/usr/local/lib/python3.10/dist-packages/keras/src/layers/reshaping/flatten.py:37: UserWarning: Do not pass an `input_shape`/`input_dim` argument to a layer. When using Sequential models, prefer using an `Input(shape)` object as the first layer in the model instead.\n",
            "  super().__init__(**kwargs)\n"
          ]
        },
        {
          "output_type": "stream",
          "name": "stdout",
          "text": [
            "\u001b[1m313/313\u001b[0m \u001b[32m━━━━━━━━━━━━━━━━━━━━\u001b[0m\u001b[37m\u001b[0m \u001b[1m0s\u001b[0m 1ms/step\n",
            "Baseline Accuracy: 0.9735999703407288\n",
            "Accuracy without Hidden Layer: 0.11349999904632568\n",
            "Accuracy without Output Layer: 0.0074\n"
          ]
        }
      ],
      "source": [
        "\n",
        "# Load MNIST dataset\n",
        "(X_train_full, y_train_full), (X_test, y_test) = mnist.load_data()\n",
        "X_train_full, X_test = X_train_full / 255.0, X_test / 255.0\n",
        "\n",
        "# Define the baseline model\n",
        "def build_model(num_hidden_units=128, include_last_layer=True):\n",
        "    model = Sequential([Flatten(input_shape=(28, 28))])\n",
        "    model.add(Dense(num_hidden_units, activation='relu'))\n",
        "    if include_last_layer:\n",
        "        model.add(Dense(10, activation='softmax'))\n",
        "    return model\n",
        "\n",
        "# Train and evaluate the baseline model\n",
        "baseline_model = build_model()\n",
        "baseline_model.compile(optimizer='adam', loss='sparse_categorical_crossentropy', metrics=['accuracy'])\n",
        "baseline_model.fit(X_train_full, y_train_full, epochs=3, batch_size=32, verbose=0)\n",
        "baseline_accuracy = baseline_model.evaluate(X_test, y_test, verbose=0)[1]\n",
        "\n",
        "# Ablation 1: Remove the hidden layer\n",
        "model_no_hidden = build_model(num_hidden_units=0, include_last_layer=True)\n",
        "model_no_hidden.compile(optimizer='adam', loss='sparse_categorical_crossentropy', metrics=['accuracy'])\n",
        "model_no_hidden.fit(X_train_full, y_train_full, epochs=3, batch_size=32, verbose=0)\n",
        "accuracy_no_hidden = model_no_hidden.evaluate(X_test, y_test, verbose=0)[1]\n",
        "\n",
        "# Ablation 2: Remove the output layer\n",
        "model_no_output = build_model(include_last_layer=False)\n",
        "model_no_output.compile(optimizer='adam', loss='sparse_categorical_crossentropy', metrics=['accuracy'])\n",
        "y_test_no_output = np.argmax(model_no_output.predict(X_test), axis=1)\n",
        "accuracy_no_output = accuracy_score(y_test, y_test_no_output)\n",
        "\n",
        "# Compare results\n",
        "print(\"Baseline Accuracy:\", baseline_accuracy)\n",
        "print(\"Accuracy without Hidden Layer:\", accuracy_no_hidden)\n",
        "print(\"Accuracy without Output Layer:\", accuracy_no_output)\n"
      ]
    }
  ]
}